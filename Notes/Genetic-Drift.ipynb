{
 "cells": [
  {
   "metadata": {},
   "cell_type": "markdown",
   "source": [
    "## Markov Chains and Erdogicity\n",
    "\n",
    "\n",
    "A Markov chain is considered ergodic if it satisfies two key properties: irreducibility and aperiodicity. When a Markov chain is ergodic, it implies that, over time, the chain will converge to a unique stationary distribution regardless of the initial state.\n",
    "\n",
    "\n",
    "\n"
   ],
   "id": "155c27118b840264"
  },
  {
   "metadata": {},
   "cell_type": "markdown",
   "source": [
    "#### General Markov Chain Representation\n",
    "\n",
    "A Markov chain is defined by its states and the transition probabilities between those states. Let $X_n$ represent the state of the system at time (or generation) $n$, and let the set of possible states be $S = \\{s_1, s_2, \\ldots, s_k\\}$.\n",
    "\n",
    "\n",
    "The transition probability from state $s_i$ to state $s_j$ is denoted by  $P_{ij}$, where:\n",
    "\n",
    "$$\n",
    "P_{ij} = \\Pr(X_{n+1} = s_j \\mid X_n = s_i)\n",
    "$$\n",
    "\n",
    "The transition matrix \\( P \\) for the Markov chain is given by:\n",
    "\n",
    "$$\n",
    "P = \n",
    "\\begin{pmatrix}\n",
    "P_{11} & P_{12} & \\cdots & P_{1k} \\\\\n",
    "P_{21} & P_{22} & \\cdots & P_{2k} \\\\\n",
    "\\vdots & \\vdots & \\ddots & \\vdots \\\\\n",
    "P_{k1} & P_{k2} & \\cdots & P_{kk}\n",
    "\\end{pmatrix}\n",
    "$$\n",
    "\n",
    "The probability of being in a particular state after \\( n \\) steps, given the initial state distribution \\( \\pi_0 \\), is:\n",
    "\n",
    "$$\n",
    "\\pi_n = \\pi_0 P^n\n",
    "$$\n",
    "\n",
    "where $pi_n$ is the state distribution after $n$ steps.\n"
   ],
   "id": "ef63b1dce545ebfb"
  },
  {
   "metadata": {},
   "cell_type": "markdown",
   "source": [
    "#### 1. Irreducibility\n",
    "\n",
    "A Markov chain is **irreducible** if it is possible to get from any state to any other state in a finite number of steps. This means that for any pair of states $i$ and $j$ in the state space $S$, there exists some positive integer $n$ such that the probability of transitioning from state $i$ to state $j$ in $n$ steps is greater than zero:\n",
    "\n",
    "$$\n",
    "P^n(i,j) > 0\n",
    "$$\n",
    "\n",
    "In other words, no state is isolated, and the chain can eventually reach any state from any other state.\n",
    "\n",
    "\n",
    "\n",
    "#### 2. Aperiodicity\n",
    "\n",
    "A Markov chain is **aperiodic** if it does not get \"stuck\" in cycles of fixed length. Formally, the period of a state $i$ is defined as the greatest common divisor (gcd) of the number of steps $n$ required to return to state $i$:\n",
    "\n",
    "$$\n",
    "d(i) = \\text{gcd}\\{n \\geq 1 : P^n(i,i) > 0\\}\n",
    "$$\n",
    "\n",
    "A state $i$ is aperiodic if its period $d(i)$ is 1, meaning the chain can return to the state at irregular times (i.e., not stuck in a cycle). If every state in the Markov chain is aperiodic, then the entire chain is considered aperiodic.\n",
    "\n",
    "\n",
    "### Ergodicity: Combining Irreducibility and Aperiodicity\n",
    "\n",
    "**Irreducibility** ensures that the chain can eventually reach any state from any other state.\n",
    "\n",
    "\n",
    "**Aperiodicity** ensures that the chain does not get locked into periodic cycles, meaning it can return to any state at irregular intervals.\n",
    "\n",
    "\n",
    "When these conditions are met, the Markov chain will have the following properties:\n",
    "\n",
    "**Convergence to a Stationary Distribution**: The Markov chain will converge to a unique stationary distribution regardless of the initial state. This means that, in the long run, the proportion of time the chain spends in each state will stabilize according to this stationary distribution.\n",
    "\n",
    "\n",
    "**Long-Term Behavior**: The long-term behavior of an ergodic Markov chain is predictable and independent of the initial state, making it possible to make meaningful probabilistic statements about the system’s future states.\n",
    "\n"
   ],
   "id": "d3dc4a19627c395b"
  },
  {
   "metadata": {},
   "cell_type": "markdown",
   "source": [
    "#### Example: Sequence Generation in Zebra Finch Birdsong \n",
    "\n",
    "Zebra finch birdsong is composed of sequences of syllables, and the sequence is often modeled as a Markov process. Each syllable (e.g., A, B, C) represents a state, and the transition probabilities represent the likelihood of moving from one syllable to another.\n",
    "\n",
    "\n",
    "**States**: The states of the Markov chain are the different syllables (e.g., A, B, C).\n",
    "\n",
    "\n",
    "**Transitions**: Transition probabilities represent the likelihood of moving from one syllable to another in the sequence.\n",
    "\n",
    "<img src=\"images/zebra-finch.jpg\" alt=\"Alt Text\" width=\"1000\"/>\n"
   ],
   "id": "dab13a1f5f252491"
  },
  {
   "metadata": {
    "ExecuteTime": {
     "end_time": "2024-08-13T20:47:39.366263Z",
     "start_time": "2024-08-13T20:47:39.359244Z"
    }
   },
   "cell_type": "code",
   "source": [
    "import numpy as np\n",
    "\n",
    "# Define states (syllables)\n",
    "syllables = ['A', 'B', 'C']\n",
    "\n",
    "# Transition matrix, defining the probabilities of moving from one syllable to another\n",
    "transition_matrix = np.array([\n",
    "    [0.1, 0.6, 0.3],  # Probabilities of moving from A to A, B, C\n",
    "    [0.4, 0.4, 0.2],  # Probabilities of moving from B to A, B, C\n",
    "    [0.3, 0.3, 0.4]   # Probabilities of moving from C to A, B, C\n",
    "])\n",
    "\n",
    "# Normalize rows to ensure they sum to 1\n",
    "transition_matrix = transition_matrix / transition_matrix.sum(axis=1)[:, None]\n",
    "\n",
    "# Simulate Markov chain\n",
    "def simulate_birdsong(transition_matrix, initial_state, steps):\n",
    "    current_state = initial_state\n",
    "    song_sequence = [syllables[current_state]]\n",
    "\n",
    "    for _ in range(steps):\n",
    "        current_state = np.random.choice(len(syllables), p=transition_matrix[current_state])\n",
    "        song_sequence.append(syllables[current_state])\n",
    "    \n",
    "    return song_sequence\n",
    "\n",
    "# Example simulation\n",
    "initial_state = 0  # Start with syllable 'A', insert 0 \n",
    "steps = 20  # Generate a sequence of 20 syllables\n",
    "song_sequence = simulate_birdsong(transition_matrix, initial_state, steps)\n",
    "print(\"Generated Birdsong Sequence:\", song_sequence)"
   ],
   "id": "8ab8a1bb1fc13d93",
   "outputs": [
    {
     "name": "stdout",
     "output_type": "stream",
     "text": [
      "Generated Birdsong Sequence: ['A', 'B', 'C', 'A', 'B', 'A', 'C', 'C', 'C', 'A', 'C', 'A', 'B', 'C', 'B', 'B', 'B', 'A', 'B', 'A', 'C']\n"
     ]
    }
   ],
   "execution_count": 11
  },
  {
   "metadata": {},
   "cell_type": "markdown",
   "source": [
    "### Example: Effects of Population Size and Environmental Stability on Allele Frequency\n",
    "\n",
    "In this notebook, we explore the concept of genetic drift and how it impacts allele frequencies in a population over time. \n",
    "\n",
    "\n",
    "Genetic drift is a stochastic (random) process that can cause significant fluctuations in the genetic composition of a population, especially in small populations or in environments that are rapidly changing.\n",
    "\n",
    "**Visualize Dynamics Across Generations**\n",
    "\n",
    "- **Modulate Population Size:** Adjust the number of individuals in the population to see how smaller or larger populations influence the stability of allele frequencies. Smaller populations are more susceptible to random fluctuations, leading to greater variability in allele frequencies over time.\n",
    "  \n",
    "- **Control Environmental Stability:** You can also adjust the stability of the environment. A stable environment will cause allele frequencies to change more predictably, while an unstable environment introduces additional randomness, leading to potentially dramatic shifts in allele frequencies.\n",
    "\n",
    "\n",
    "<img src=\"images/allele-frequency.jpg\" alt=\"Alt Text\" width=\"500\"/>\n"
   ],
   "id": "c392133919b518f9"
  },
  {
   "metadata": {
    "ExecuteTime": {
     "end_time": "2024-08-13T20:53:39.310408Z",
     "start_time": "2024-08-13T20:53:39.102815Z"
    }
   },
   "cell_type": "code",
   "source": [
    "import numpy as np\n",
    "import matplotlib.pyplot as plt\n",
    "from ipywidgets import interact, IntSlider, FloatSlider\n",
    "\n",
    "def simulate_allele_frequency(population_size, generations, stable_environment):\n",
    "    \n",
    "    \n",
    "    # Initialize allele frequency\n",
    "    allele_frequency = 0.5\n",
    "    frequencies = [allele_frequency]\n",
    "    \n",
    "    # Simulate allele frequency over generations\n",
    "    for _ in range(generations):\n",
    "        # Determine environmental stability effect\n",
    "        if stable_environment:\n",
    "            environment_effect = 1.0  # No change in environment\n",
    "        else:\n",
    "            environment_effect = np.random.uniform(0.95, 1.05)  # Small random perturbations\n",
    "        \n",
    "        # Simulate random sampling of gametes\n",
    "        allele_frequency = np.random.binomial(population_size, allele_frequency) / population_size\n",
    "        allele_frequency *= environment_effect\n",
    "        allele_frequency = np.clip(allele_frequency, 0, 1)\n",
    "        frequencies.append(allele_frequency)\n",
    "    \n",
    "    return frequencies\n",
    "\n",
    "def plot_allele_frequency(population_size, generations, stable_environment):\n",
    "    frequencies = simulate_allele_frequency(population_size, generations, stable_environment)\n",
    "    plt.figure(figsize=(10, 6))\n",
    "    plt.plot(frequencies, marker='o')\n",
    "    plt.ylim(0, 1)\n",
    "    plt.title(\"Allele Frequency Over Generations\")\n",
    "    plt.xlabel(\"Generations\")\n",
    "    plt.ylabel(\"Allele Frequency\")\n",
    "    plt.grid(True)\n",
    "    plt.show()\n",
    "\n",
    "# Interactive widget\n",
    "interact(plot_allele_frequency,\n",
    "         population_size=IntSlider(min=10, max=1000, step=10, value=100, description='Population Size'),\n",
    "         generations=IntSlider(min=10, max=100, step=10, value=50, description='Generations'),\n",
    "         stable_environment=FloatSlider(min=0, max=1, step=0.1, value=1, description='Stable Environment'));\n"
   ],
   "id": "42adf66ab3e1a3b9",
   "outputs": [
    {
     "data": {
      "text/plain": [
       "interactive(children=(IntSlider(value=100, description='Population Size', max=1000, min=10, step=10), IntSlide…"
      ],
      "application/vnd.jupyter.widget-view+json": {
       "version_major": 2,
       "version_minor": 0,
       "model_id": "f26c81b9124f4b0aa6b1e428ec539b29"
      }
     },
     "metadata": {},
     "output_type": "display_data"
    }
   ],
   "execution_count": 15
  },
  {
   "metadata": {},
   "cell_type": "markdown",
   "source": [
    "#### Findings \n",
    "\n",
    "- **Population Size:** The number of individuals contributing to the gene pool. Smaller populations are more susceptible to genetic drift, leading to more significant fluctuations in allele frequency.\n",
    "- **Stable Environment:** Adjusts the stability of the environment across generations. A value of `1.0` represents a completely stable environment, while lower values introduce variability, simulating environmental changes.\n"
   ],
   "id": "14d1157737a73518"
  },
  {
   "metadata": {},
   "cell_type": "markdown",
   "source": [
    "#### Applications in Daily Life and Decision Making \n",
    "\n",
    "\n",
    "<img src=\"images/Jerry.jpg\" alt=\"Alt Text\" width=\"500\"/>\n",
    "\n",
    "\n",
    "\n",
    "**Nature leverages stochasticity** to make us resilient across changes in the environment. \n",
    "\n",
    "\n",
    "#### Embrace Variability and Avoid Overfitting\n",
    "\n",
    "- Just as genetic diversity and environmental fluctuations help populations adapt \n",
    "- Introduce variability into daily practices to avoid getting stuck in unproductive habits \n",
    "- Approach the same problem from multiple angles \n",
    "\n",
    "\"When life looks like easy street, there is danger at your door. Think this through with me, let me know your mine... oh oh, what I want to know... is are you kind.\" \n",
    "- Robert Hunter \n",
    "\n",
    "#### Use Noise Perturbations to Your Advantage\n",
    "\n",
    "- Adding noise can prevent a system from overfitting \n",
    "\n",
    "- Use small perturbations to break habitual behvaior \n",
    "\n",
    "- Wander through the stacks in the library, walk into a new lecture hall, take different paths to grow \n",
    "\n",
    "#### There is No Learning Without Consistent Feedback\n",
    "\n",
    "- Feedback from the environment provide a system with a reference for change \n",
    " \n",
    "- Be intentional about storing your results\n",
    "\n",
    "- It's easy to avoid change if you don't look in the mirror\n",
    "\n",
    "- Keeping record of your sequence of actions and results provides a reference for making more informed decisions \n",
    "\n",
    "- The path of least resistance is to avoid change (we suppress the decisions we make that are habitual and conditioned -- and because of this, we usually don't learn, leading to living life on the surface) \n"
   ],
   "id": "72052d88695dfbb7"
  },
  {
   "metadata": {},
   "cell_type": "markdown",
   "source": [
    "Hive Notes\n",
    "\n",
    "Welcome to my personal hive. This set of notes is inherently exploratory (and certainly subject to change, recycling, and revision). \n",
    "\n",
    "\n",
    "The hive is a place where I can collect my thoughts (primarily in the form of Jupyter notebooks). I like to draw connections between my many interests and it's nice to keep a record of it for others (including future versions of myself) to get inspiration, draw new connections, and laugh at my current set of knowledge and limitations. \n",
    "\n",
    "\n",
    "The reasoning for keeping these stored as notebooks is so I can flexibly play with the code in future iterations. "
   ],
   "id": "d6bd90802585e8a0"
  },
  {
   "metadata": {},
   "cell_type": "code",
   "outputs": [],
   "execution_count": null,
   "source": "",
   "id": "57fc7c4bb59a3438"
  }
 ],
 "metadata": {
  "kernelspec": {
   "display_name": "Python 3",
   "language": "python",
   "name": "python3"
  },
  "language_info": {
   "codemirror_mode": {
    "name": "ipython",
    "version": 2
   },
   "file_extension": ".py",
   "mimetype": "text/x-python",
   "name": "python",
   "nbconvert_exporter": "python",
   "pygments_lexer": "ipython2",
   "version": "2.7.6"
  }
 },
 "nbformat": 4,
 "nbformat_minor": 5
}
